{
 "cells": [
  {
   "cell_type": "markdown",
   "metadata": {},
   "source": [
    "## Demo 6 - movie poster classification"
   ]
  },
  {
   "cell_type": "markdown",
   "metadata": {},
   "source": [
    "Multi-label (meaning that there is more than one \"true\" label) classification of movie poster images by genre."
   ]
  },
  {
   "cell_type": "code",
   "execution_count": 1,
   "metadata": {},
   "outputs": [],
   "source": [
    "import os\n",
    "import sys\n",
    "from skimage import io\n",
    "from torch import nn\n",
    "import torch\n",
    "import numpy as np\n",
    "import pandas as pd"
   ]
  },
  {
   "cell_type": "markdown",
   "metadata": {},
   "source": [
    "### Load the data\n",
    "\n",
    "I have left this part mostly (if not totally) unchanged. The data loading part does not require any modifications."
   ]
  },
  {
   "cell_type": "code",
   "execution_count": 2,
   "metadata": {},
   "outputs": [],
   "source": [
    "from torch.utils.data import Dataset\n",
    "from skimage import transform\n",
    "from skimage import color\n",
    "\n",
    "class MoviePosterDataset(Dataset):\n",
    "    def __init__(self, csvfile, imagedir, device=\"cpu\"):\n",
    "        self.posterlist = pd.read_csv(csvfile)\n",
    "        self.imagedir = imagedir\n",
    "        \n",
    "        imageids = list(self.posterlist[\"Id\"])\n",
    "        imagefiles = [\"{}/{}.jpg\".format(self.imagedir, x) for x in imageids]\n",
    "        images = [np.array(io.imread(x)) for x in imagefiles]\n",
    "        images = np.array([color.gray2rgb(x) if len(x.shape) < 3 else x for x in images])\n",
    "        \n",
    "        truths = self.posterlist[self.posterlist.columns[2:]]\n",
    "        self.truths = torch.Tensor(truths.to_numpy())\n",
    "    \n",
    "        tns = torch.from_numpy(images)\n",
    "        self.images = tns.permute(0, 3, 1, 2)\n",
    "        \n",
    "        if device != \"cpu\":\n",
    "            self.device = torch.device(device)\n",
    "            self.images = self.images.to(self.device)\n",
    "            self.truths = self.truths.to(self.device)\n",
    "        \n",
    "    def __len__(self):\n",
    "        return len(self.posterlist)\n",
    "    \n",
    "    def __getitem__(self, idx):            \n",
    "        truths = self.truths[idx]\n",
    "        images = self.images[idx]\n",
    "        \n",
    "        return images, truths"
   ]
  },
  {
   "cell_type": "markdown",
   "metadata": {},
   "source": [
    "I changed the paths here, and specified the path to the training file and the dataset of images as it is on the server. I did not load anything on the GPU as I want to use that only while training."
   ]
  },
  {
   "cell_type": "code",
   "execution_count": 3,
   "metadata": {},
   "outputs": [
    {
     "data": {
      "text/plain": [
       "(torch.Size([7254, 3, 300, 450]), torch.Size([7254, 25]))"
      ]
     },
     "execution_count": 3,
     "metadata": {},
     "output_type": "execute_result"
    }
   ],
   "source": [
    "mpd = MoviePosterDataset(\"/usr/local/courses/lt2316-h19/Multi_Label_dataset/train.csv\", \n",
    "                         \"/usr/local/courses/lt2316-h19/Multi_Label_dataset/ImageSmaller\", device=\"cpu\")\n",
    "mpd.images.shape, mpd.truths.shape"
   ]
  },
  {
   "cell_type": "markdown",
   "metadata": {},
   "source": [
    "### Define the model\n",
    "\n",
    "I spent a lot of time on this model, experimenting with different layers and network architecture elements. The code looks quite messy here, but I did not clean it up because I wanted the commented out code to reflect the various things I tried out before eventually deciding upon said architecture. To make it more readable and understandable, here is the final network architecture that I'm using:\n",
    "\n",
    "- A 2d convolutional layer with 3 input channels (this is the input image), 16 output channels, a filter size of 5, a stride of 1 and padding of 2. I used this particular configuration (especially the padding value) so that the resultant image after applying the convolution remains of the same dimensions.\n",
    "- Batch Normalization\n",
    "- Activation function ReLU\n",
    "- Maxpooling with filter size 2 and stride of 2. This reduces the image dimensions to (150, 225).\n",
    "\n",
    "\n",
    "- A 2d convolutional layer with 16 input channels (from the previous convolution), 32 output channels, a filter size of 5, a stride of 1 and padding of (2,3). \n",
    "- Dropout of 0.2\n",
    "- Batch Normalization\n",
    "- Activation function ReLU\n",
    "- Maxpooling with filter size 2 and stride of 2. This reduces the image dimensions to (75, 112).\n",
    "\n",
    "\n",
    "- A 2d convolutional layer with 32 input channels (from the previous convolution), 64 output channels, a filter size of 5, a stride of 1 and padding of (3,2). \n",
    "- Dropout of 0.2\n",
    "- Batch Normalization\n",
    "- Activation function ReLU\n",
    "- Maxpooling with filter size 2 and stride of 2. This reduces the image dimensions to (37, 56).\n",
    "\n",
    "\n",
    "- A linear layer which reshapes the output from 64\\*37\\*56 to 3000 data points.\n",
    "- A dropout of 0.2\n",
    "- Activation function ReLU\n",
    "\n",
    "\n",
    "- A linear layer which reshapes the output from 3000 to 25 data points.\n",
    "- Dropout of 0.2\n",
    "- Activation function Sigmoid."
   ]
  },
  {
   "cell_type": "markdown",
   "metadata": {},
   "source": [
    "#### Experiments with the model\n",
    "\n",
    "I noticed that having only one convolutional layer doesn't do much - the model does not really learn anything. Adding two didn't help much either - it was with 3 convolutional layers that the training loss started going down consistently. Having a fourth convolutional layer helps even more, and the model converges faster - however, this fourth convolutional layer also makes the model overfit more.\n",
    "\n",
    "And this is indeed the more troubling issue that I've faced with this task - the loss on the validation loss goes down in the start, but then just starts fluctuating around a fixed value. Moreover, if the number of epochs is high, the validation loss eventually starts increasing, which I think indicates that the model is overfitting. Because of this, I removed the fourth convolutional layer.\n",
    "\n",
    "I also had another linear layer, between the final two linear layers, but I removed it for the same reason - the model was overfitting on the data. \n",
    "\n",
    "For dealing with overfitting, I found that batch normalization helped a lot, as it normalizes the data between the layers. I added dropouts too, but I found they do not help as much - and if I add a large value for the dropout, the model stops learning at all - which makes sense I suppose.\n",
    "\n",
    "The output channels I initially had were 5, 10, 15... but later I realized that the convention is to use output channels of values to the power of 2. So then I started with 16, then went to 32 and 64."
   ]
  },
  {
   "cell_type": "code",
   "execution_count": 4,
   "metadata": {},
   "outputs": [],
   "source": [
    "class PosterClassifier(nn.Module):\n",
    "    def __init__(self, d1, d2, dropout=0.2):\n",
    "        super().__init__()\n",
    "        in_channels = 3\n",
    "#         self.out_channels = 5\n",
    "        filter_size = 5\n",
    "        padding = 2\n",
    "        stride = 1\n",
    "        \n",
    "        self.conv1 = nn.Conv2d(3, 16, filter_size, stride=stride, padding=padding)\n",
    "#         self.dropout1 = nn.Dropout(dropout)\n",
    "        self.bnm1 = nn.BatchNorm2d(16)\n",
    "        self.maxpool1 = nn.MaxPool2d(2, stride=2)\n",
    "        \n",
    "        self.conv2 = nn.Conv2d(16, 32, filter_size, stride=stride, padding=padding)\n",
    "        self.dropout2 = nn.Dropout(dropout)\n",
    "        self.bnm2 = nn.BatchNorm2d(32)\n",
    "        self.maxpool2 = nn.MaxPool2d((2,3), stride=2)\n",
    "        \n",
    "        self.conv3 = nn.Conv2d(32, 64, filter_size, stride=stride, padding=padding)\n",
    "        self.dropout3 = nn.Dropout(dropout)\n",
    "        self.bnm3 = nn.BatchNorm2d(64)\n",
    "        self.maxpool3 = nn.MaxPool2d((3,2), stride=2)\n",
    "        \n",
    "#         self.conv4 = nn.Conv2d(64, 128, filter_size, stride=stride, padding=padding)\n",
    "#         self.dropout4 = nn.Dropout(dropout)\n",
    "#         self.bnm4 = nn.BatchNorm2d(128)\n",
    "#         self.maxpool4 = nn.MaxPool2d((3,2), stride=2)\n",
    "        \n",
    "#         self.conv2d1 = nn.Conv2d(in_channels, self.out_channels, filter_size, stride=stride, padding=padding)\n",
    "#         self.dropout1 = nn.Dropout(dropout)\n",
    "#         self.maxpool1 = nn.MaxPool2d(2, stride=2)\n",
    "        \n",
    "#         self.conv2d2 = nn.Conv2d(self.out_channels, 10, filter_size, stride=stride, padding=padding)\n",
    "#         self.dropout2 = nn.Dropout(dropout)\n",
    "#         self.maxpool2 = nn.MaxPool2d((2,3), stride=2)\n",
    "        \n",
    "#         self.conv2d3 = nn.Conv2d(10, 32, filter_size, stride=stride, padding=padding)\n",
    "#         self.dropout3 = nn.Dropout(dropout)\n",
    "#         self.maxpool3 = nn.MaxPool2d((3,2), stride=2)\n",
    "        \n",
    "        self.linear0 = nn.Linear(64 * 37 * 56, 3000)\n",
    "#         self.linear0 = nn.Linear(128 * 18 * 28, 3000)\n",
    "        self.dropout4 = nn.Dropout(dropout)\n",
    "        \n",
    "#         self.linear1 = nn.Linear(3000, 1500)\n",
    "#         self.dropout5 = nn.Dropout(dropout)\n",
    "        \n",
    "        self.linear2 = nn.Linear(3000, 25)\n",
    "        self.dropout6 = nn.Dropout(dropout)\n",
    "        self.sigmoid = nn.Sigmoid()\n",
    "        \n",
    "    def forward(self, x):\n",
    "        output = self.conv1(x)\n",
    "        output = self.bnm1(output)\n",
    "#         output = self.dropout1(output)\n",
    "        output = nn.functional.relu(output)\n",
    "        output = self.maxpool1(output)\n",
    "        \n",
    "        output = self.conv2(output)\n",
    "        output = self.dropout2(output)\n",
    "        output = self.bnm2(output)\n",
    "        output = nn.functional.relu(output)\n",
    "        output = self.maxpool2(output)\n",
    "        \n",
    "        output = self.conv3(output)\n",
    "        output = self.bnm3(output)\n",
    "        output = self.dropout3(output)\n",
    "        output = nn.functional.relu(output)\n",
    "        output = self.maxpool3(output)\n",
    "        \n",
    "#         output = self.conv4(output)\n",
    "#         output = self.bnm4(output)\n",
    "#         output = self.dropout4(output)\n",
    "#         output = nn.functional.relu(output)\n",
    "#         output = self.maxpool4(output)\n",
    "        \n",
    "        output = output.view(-1, 64 * 37 * 56)\n",
    "#         output = output.view(-1, 128 * 18 * 28)\n",
    "        output = self.linear0(output)\n",
    "        output = self.dropout4(output)\n",
    "        output = nn.functional.relu(output)\n",
    "        \n",
    "#         output = self.linear1(output)\n",
    "#         output = self.dropout5(output)\n",
    "#         output = nn.functional.relu(output)\n",
    "        \n",
    "        output = self.linear2(output)\n",
    "        output = self.dropout6(output)\n",
    "        output = self.sigmoid(output)\n",
    "        \n",
    "        return output"
   ]
  },
  {
   "cell_type": "markdown",
   "metadata": {},
   "source": [
    "### Arrange the data for the model\n",
    "\n",
    "This part originally had a 60/40 split for training and testing data. I have replaced this with a 60/20/20 split for training, validation and testing data."
   ]
  },
  {
   "cell_type": "code",
   "execution_count": 5,
   "metadata": {},
   "outputs": [],
   "source": [
    "import random\n",
    "import math\n",
    "\n",
    "totalindices = list(range(len(mpd)))\n",
    "random.shuffle(totalindices)\n",
    "train_test_split_index = math.floor(len(mpd)*0.8)"
   ]
  },
  {
   "cell_type": "code",
   "execution_count": 6,
   "metadata": {},
   "outputs": [
    {
     "data": {
      "text/plain": [
       "5803"
      ]
     },
     "execution_count": 6,
     "metadata": {},
     "output_type": "execute_result"
    }
   ],
   "source": [
    "train_test_split_index"
   ]
  },
  {
   "cell_type": "code",
   "execution_count": 7,
   "metadata": {},
   "outputs": [],
   "source": [
    "train_val_indices = totalindices[:train_test_split_index]\n",
    "test_indices = totalindices[train_test_split_index:]"
   ]
  },
  {
   "cell_type": "code",
   "execution_count": 8,
   "metadata": {},
   "outputs": [],
   "source": [
    "train_val_split_index = math.floor(len(train_val_indices)*0.8)\n",
    "train_indices = train_val_indices[:train_val_split_index]\n",
    "val_indices = train_val_indices[train_val_split_index:]"
   ]
  },
  {
   "cell_type": "code",
   "execution_count": 9,
   "metadata": {},
   "outputs": [
    {
     "data": {
      "text/plain": [
       "(4642, 1161, 1451)"
      ]
     },
     "execution_count": 9,
     "metadata": {},
     "output_type": "execute_result"
    }
   ],
   "source": [
    "len(train_indices), len(val_indices), len(test_indices)"
   ]
  },
  {
   "cell_type": "code",
   "execution_count": 10,
   "metadata": {},
   "outputs": [],
   "source": [
    "train_sampler = torch.utils.data.SubsetRandomSampler(train_indices)\n",
    "val_sampler = torch.utils.data.SubsetRandomSampler(val_indices)\n",
    "test_sampler = torch.utils.data.SubsetRandomSampler(test_indices)"
   ]
  },
  {
   "cell_type": "markdown",
   "metadata": {},
   "source": [
    "The batch size defined here is currently 32. I experimented with sized 16 and 32 during my work with the model and training. I originally wanted to have a batch size of 64, but that causes memory issues with the GPU, so I had to stick to either 16 or 32."
   ]
  },
  {
   "cell_type": "code",
   "execution_count": 11,
   "metadata": {},
   "outputs": [],
   "source": [
    "traindl = torch.utils.data.DataLoader(mpd, batch_size=32, \n",
    "                                      sampler=train_sampler, pin_memory=False)\n",
    "valdl = torch.utils.data.DataLoader(mpd, batch_size=32, sampler=val_sampler, pin_memory=False)\n",
    "testdl = torch.utils.data.DataLoader(mpd, sampler=test_sampler)"
   ]
  },
  {
   "cell_type": "markdown",
   "metadata": {},
   "source": [
    "### Write and run the training loop\n",
    "\n",
    "In the training loop here, I used the GPU \"cuda:1\", which is the GPU assigned to me as per my username. I used the Adam optimizer, with a learning rate of 0.0001 (as I found that the model starts oscillating around some value and doesn't converge if I use a higher learning rate), and added a weight decay of 1e-5 for some regularization. Most of the other configuration is kept the same.\n",
    "\n",
    "The major thing added here is the fact that in each epoch, I first set the model to train mode and train over all batches in the training dataloader. Then I set the model to eval mode, and test it over all batches in the validation dataloader. I calculate the total loss after both, and I maintain a list of train loss and validation loss after each epoch for plotting purposes later.\n",
    "\n",
    "I have set the number of epochs to 15 here because I found that if the model is trained over more epochs (like 30, as in the original example), the validation loss starts increasing, which means the model is overfitting. Since the model architecture is quite complex and overfitting can happen quickly, I found it best to limit the number of epochs to 10 or 15."
   ]
  },
  {
   "cell_type": "code",
   "execution_count": 12,
   "metadata": {},
   "outputs": [],
   "source": [
    "import torch.optim as optim\n",
    "\n",
    "def train(train_dataloader, val_dataloader, epochs=3):\n",
    "    dev = \"cuda:1\"\n",
    "    torch.cuda.empty_cache()\n",
    "    model = PosterClassifier(d1=450, d2=300)\n",
    "    model = model.to(dev)\n",
    "    optimizer = optim.Adam(model.parameters(), lr=0.0001, weight_decay=1e-5)\n",
    "    criterion = nn.BCELoss()\n",
    "    train_losses = []\n",
    "    val_losses = []\n",
    "    for epoch in range(epochs):\n",
    "        sum_train_loss = 0\n",
    "        sum_val_loss = 0\n",
    "        total_batches = 0\n",
    "        model.train()\n",
    "        for c, data in enumerate(train_dataloader):\n",
    "            images, truth = data\n",
    "            optimizer.zero_grad()\n",
    "            images = images.float().to(dev)\n",
    "            truth = truth.to(dev)\n",
    "            output = model(images)\n",
    "            loss = criterion(output, truth)\n",
    "            sum_train_loss += loss.item()\n",
    "            total_batches += 1.0\n",
    "            loss.backward()\n",
    "            optimizer.step()\n",
    "\n",
    "        total_loss = sum_train_loss/total_batches\n",
    "        train_losses.append(total_loss)\n",
    "        print(\"In epoch {}, training loss = {}\".format(epoch, total_loss))\n",
    "        \n",
    "        total_batches = 0\n",
    "        model.eval()\n",
    "        for c, data in enumerate(val_dataloader):\n",
    "            images, truth = data\n",
    "            images = images.float().to(dev)\n",
    "            truth = truth.to(dev)\n",
    "            output = model(images)\n",
    "            with torch.no_grad():\n",
    "                loss = criterion(output, truth)            \n",
    "            sum_val_loss += loss.item()\n",
    "            total_batches += 1.0\n",
    "            \n",
    "        total_loss = sum_val_loss/total_batches\n",
    "        val_losses.append(total_loss)\n",
    "        print(\"In epoch {}, validation loss = {}\".format(epoch, total_loss))\n",
    "        print()\n",
    "\n",
    "    return model, train_losses, val_losses"
   ]
  },
  {
   "cell_type": "code",
   "execution_count": 13,
   "metadata": {},
   "outputs": [
    {
     "name": "stdout",
     "output_type": "stream",
     "text": [
      "In epoch 0, training loss = 2.2493295698133235\n",
      "In epoch 0, validation loss = 1.1917146331555135\n",
      "\n",
      "In epoch 1, training loss = 0.9392120650369827\n",
      "In epoch 1, validation loss = 0.2947981913347502\n",
      "\n",
      "In epoch 2, training loss = 0.33859598718277395\n",
      "In epoch 2, validation loss = 0.2623300874555433\n",
      "\n",
      "In epoch 3, training loss = 0.3311567967885161\n",
      "In epoch 3, validation loss = 0.27130868950405634\n",
      "\n",
      "In epoch 4, training loss = 0.32480484655458636\n",
      "In epoch 4, validation loss = 0.2575343142490129\n",
      "\n",
      "In epoch 5, training loss = 0.3240135608062352\n",
      "In epoch 5, validation loss = 0.26151026543733236\n",
      "\n",
      "In epoch 6, training loss = 0.31971715002843776\n",
      "In epoch 6, validation loss = 0.25998508728839254\n",
      "\n"
     ]
    },
    {
     "ename": "KeyboardInterrupt",
     "evalue": "",
     "output_type": "error",
     "traceback": [
      "\u001b[0;31m---------------------------------------------------------------------------\u001b[0m",
      "\u001b[0;31mKeyboardInterrupt\u001b[0m                         Traceback (most recent call last)",
      "\u001b[0;32m<ipython-input-13-9615120531ac>\u001b[0m in \u001b[0;36m<module>\u001b[0;34m\u001b[0m\n\u001b[0;32m----> 1\u001b[0;31m \u001b[0mmodel\u001b[0m\u001b[0;34m,\u001b[0m \u001b[0mtrain_losses\u001b[0m\u001b[0;34m,\u001b[0m \u001b[0mval_losses\u001b[0m \u001b[0;34m=\u001b[0m \u001b[0mtrain\u001b[0m\u001b[0;34m(\u001b[0m\u001b[0mtraindl\u001b[0m\u001b[0;34m,\u001b[0m \u001b[0mvaldl\u001b[0m\u001b[0;34m,\u001b[0m \u001b[0mepochs\u001b[0m\u001b[0;34m=\u001b[0m\u001b[0;36m15\u001b[0m\u001b[0;34m)\u001b[0m\u001b[0;34m\u001b[0m\u001b[0;34m\u001b[0m\u001b[0m\n\u001b[0m",
      "\u001b[0;32m<ipython-input-12-6672a87d3921>\u001b[0m in \u001b[0;36mtrain\u001b[0;34m(train_dataloader, val_dataloader, epochs)\u001b[0m\n\u001b[1;32m     21\u001b[0m             \u001b[0mtruth\u001b[0m \u001b[0;34m=\u001b[0m \u001b[0mtruth\u001b[0m\u001b[0;34m.\u001b[0m\u001b[0mto\u001b[0m\u001b[0;34m(\u001b[0m\u001b[0mdev\u001b[0m\u001b[0;34m)\u001b[0m\u001b[0;34m\u001b[0m\u001b[0;34m\u001b[0m\u001b[0m\n\u001b[1;32m     22\u001b[0m             \u001b[0moutput\u001b[0m \u001b[0;34m=\u001b[0m \u001b[0mmodel\u001b[0m\u001b[0;34m(\u001b[0m\u001b[0mimages\u001b[0m\u001b[0;34m)\u001b[0m\u001b[0;34m\u001b[0m\u001b[0;34m\u001b[0m\u001b[0m\n\u001b[0;32m---> 23\u001b[0;31m             \u001b[0mloss\u001b[0m \u001b[0;34m=\u001b[0m \u001b[0mcriterion\u001b[0m\u001b[0;34m(\u001b[0m\u001b[0moutput\u001b[0m\u001b[0;34m,\u001b[0m \u001b[0mtruth\u001b[0m\u001b[0;34m)\u001b[0m\u001b[0;34m\u001b[0m\u001b[0;34m\u001b[0m\u001b[0m\n\u001b[0m\u001b[1;32m     24\u001b[0m             \u001b[0msum_train_loss\u001b[0m \u001b[0;34m+=\u001b[0m \u001b[0mloss\u001b[0m\u001b[0;34m.\u001b[0m\u001b[0mitem\u001b[0m\u001b[0;34m(\u001b[0m\u001b[0;34m)\u001b[0m\u001b[0;34m\u001b[0m\u001b[0;34m\u001b[0m\u001b[0m\n\u001b[1;32m     25\u001b[0m             \u001b[0mtotal_batches\u001b[0m \u001b[0;34m+=\u001b[0m \u001b[0;36m1.0\u001b[0m\u001b[0;34m\u001b[0m\u001b[0;34m\u001b[0m\u001b[0m\n",
      "\u001b[0;32m/usr/local/lib64/python3.7/site-packages/torch/nn/modules/module.py\u001b[0m in \u001b[0;36m__call__\u001b[0;34m(self, *input, **kwargs)\u001b[0m\n\u001b[1;32m    545\u001b[0m             \u001b[0mresult\u001b[0m \u001b[0;34m=\u001b[0m \u001b[0mself\u001b[0m\u001b[0;34m.\u001b[0m\u001b[0m_slow_forward\u001b[0m\u001b[0;34m(\u001b[0m\u001b[0;34m*\u001b[0m\u001b[0minput\u001b[0m\u001b[0;34m,\u001b[0m \u001b[0;34m**\u001b[0m\u001b[0mkwargs\u001b[0m\u001b[0;34m)\u001b[0m\u001b[0;34m\u001b[0m\u001b[0;34m\u001b[0m\u001b[0m\n\u001b[1;32m    546\u001b[0m         \u001b[0;32melse\u001b[0m\u001b[0;34m:\u001b[0m\u001b[0;34m\u001b[0m\u001b[0;34m\u001b[0m\u001b[0m\n\u001b[0;32m--> 547\u001b[0;31m             \u001b[0mresult\u001b[0m \u001b[0;34m=\u001b[0m \u001b[0mself\u001b[0m\u001b[0;34m.\u001b[0m\u001b[0mforward\u001b[0m\u001b[0;34m(\u001b[0m\u001b[0;34m*\u001b[0m\u001b[0minput\u001b[0m\u001b[0;34m,\u001b[0m \u001b[0;34m**\u001b[0m\u001b[0mkwargs\u001b[0m\u001b[0;34m)\u001b[0m\u001b[0;34m\u001b[0m\u001b[0;34m\u001b[0m\u001b[0m\n\u001b[0m\u001b[1;32m    548\u001b[0m         \u001b[0;32mfor\u001b[0m \u001b[0mhook\u001b[0m \u001b[0;32min\u001b[0m \u001b[0mself\u001b[0m\u001b[0;34m.\u001b[0m\u001b[0m_forward_hooks\u001b[0m\u001b[0;34m.\u001b[0m\u001b[0mvalues\u001b[0m\u001b[0;34m(\u001b[0m\u001b[0;34m)\u001b[0m\u001b[0;34m:\u001b[0m\u001b[0;34m\u001b[0m\u001b[0;34m\u001b[0m\u001b[0m\n\u001b[1;32m    549\u001b[0m             \u001b[0mhook_result\u001b[0m \u001b[0;34m=\u001b[0m \u001b[0mhook\u001b[0m\u001b[0;34m(\u001b[0m\u001b[0mself\u001b[0m\u001b[0;34m,\u001b[0m \u001b[0minput\u001b[0m\u001b[0;34m,\u001b[0m \u001b[0mresult\u001b[0m\u001b[0;34m)\u001b[0m\u001b[0;34m\u001b[0m\u001b[0;34m\u001b[0m\u001b[0m\n",
      "\u001b[0;32m/usr/local/lib64/python3.7/site-packages/torch/nn/modules/loss.py\u001b[0m in \u001b[0;36mforward\u001b[0;34m(self, input, target)\u001b[0m\n\u001b[1;32m    496\u001b[0m \u001b[0;34m\u001b[0m\u001b[0m\n\u001b[1;32m    497\u001b[0m     \u001b[0;32mdef\u001b[0m \u001b[0mforward\u001b[0m\u001b[0;34m(\u001b[0m\u001b[0mself\u001b[0m\u001b[0;34m,\u001b[0m \u001b[0minput\u001b[0m\u001b[0;34m,\u001b[0m \u001b[0mtarget\u001b[0m\u001b[0;34m)\u001b[0m\u001b[0;34m:\u001b[0m\u001b[0;34m\u001b[0m\u001b[0;34m\u001b[0m\u001b[0m\n\u001b[0;32m--> 498\u001b[0;31m         \u001b[0;32mreturn\u001b[0m \u001b[0mF\u001b[0m\u001b[0;34m.\u001b[0m\u001b[0mbinary_cross_entropy\u001b[0m\u001b[0;34m(\u001b[0m\u001b[0minput\u001b[0m\u001b[0;34m,\u001b[0m \u001b[0mtarget\u001b[0m\u001b[0;34m,\u001b[0m \u001b[0mweight\u001b[0m\u001b[0;34m=\u001b[0m\u001b[0mself\u001b[0m\u001b[0;34m.\u001b[0m\u001b[0mweight\u001b[0m\u001b[0;34m,\u001b[0m \u001b[0mreduction\u001b[0m\u001b[0;34m=\u001b[0m\u001b[0mself\u001b[0m\u001b[0;34m.\u001b[0m\u001b[0mreduction\u001b[0m\u001b[0;34m)\u001b[0m\u001b[0;34m\u001b[0m\u001b[0;34m\u001b[0m\u001b[0m\n\u001b[0m\u001b[1;32m    499\u001b[0m \u001b[0;34m\u001b[0m\u001b[0m\n\u001b[1;32m    500\u001b[0m \u001b[0;34m\u001b[0m\u001b[0m\n",
      "\u001b[0;32m/usr/local/lib64/python3.7/site-packages/torch/nn/functional.py\u001b[0m in \u001b[0;36mbinary_cross_entropy\u001b[0;34m(input, target, weight, size_average, reduce, reduction)\u001b[0m\n\u001b[1;32m   2049\u001b[0m \u001b[0;34m\u001b[0m\u001b[0m\n\u001b[1;32m   2050\u001b[0m     return torch._C._nn.binary_cross_entropy(\n\u001b[0;32m-> 2051\u001b[0;31m         input, target, weight, reduction_enum)\n\u001b[0m\u001b[1;32m   2052\u001b[0m \u001b[0;34m\u001b[0m\u001b[0m\n\u001b[1;32m   2053\u001b[0m \u001b[0;34m\u001b[0m\u001b[0m\n",
      "\u001b[0;31mKeyboardInterrupt\u001b[0m: "
     ]
    }
   ],
   "source": [
    "model, train_losses, val_losses = train(traindl, valdl, epochs=15)"
   ]
  },
  {
   "cell_type": "code",
   "execution_count": null,
   "metadata": {},
   "outputs": [],
   "source": [
    "import matplotlib.pyplot as plt\n",
    "%matplotlib inline\n",
    "plt.plot(train_losses, 'r')\n",
    "plt.plot(val_losses, 'b')\n",
    "plt.legend(['Training loss', 'Validation loss'])\n",
    "plt.show()"
   ]
  },
  {
   "cell_type": "markdown",
   "metadata": {},
   "source": [
    "I briefly played around with the idea of data augmentation and image normalization for this problem, which could have potentially helped a lot, but since the task was to improve the loss by modifying the network architecture only, I didn't do that.\n",
    "\n",
    "Another way to solve this problem could have been to use a pre-trained model on this problem, if one is available - kind of like how we used BERT for sequence classification in Assignment 2."
   ]
  },
  {
   "cell_type": "markdown",
   "metadata": {},
   "source": [
    "### Write and run a testing routine\n",
    "\n",
    "Most of the code is kept same here. The loss on the testing data was 1.03 in the original example, so this loss of ~0.24 on the test set through the updated model shows that it has underwent a great improvement. However, I wanted to evaluate it through another metric like accuracy, but found that this doesn't work too well when our output is a one-hot vector. Accuracy seems like too harsh a metric, if we use like how I tried to - but perhaps there are better ways to evaluate a multi-label classification problem than accuracy."
   ]
  },
  {
   "cell_type": "code",
   "execution_count": null,
   "metadata": {},
   "outputs": [],
   "source": [
    "def test(model, dataloader):\n",
    "    model = model.to(\"cpu\")\n",
    "    model.eval()\n",
    "    criterion = nn.BCELoss()\n",
    "    sumloss = 0\n",
    "    items = 0\n",
    "    total_predictions = 0\n",
    "    accurate_predictions = 0\n",
    "    for c, data in enumerate(testdl):\n",
    "        images, truth = data\n",
    "        output = model(images.float())\n",
    "        loss = criterion(output, truth)\n",
    "        sumloss += loss\n",
    "        items += 1.0\n",
    "\n",
    "        o = output > 0.8\n",
    "        o = (o.float() == truth)[0]\n",
    "        values = list(set([x.item() for x in o]))\n",
    "        if len(values) == 1 and values[0] is True:\n",
    "            accurate_predictions += 1\n",
    "        total_predictions += 1\n",
    "\n",
    "    print(\"Loss on test data = {}\".format(sumloss/items))\n",
    "    print(\"Accuracy on test data = {}\".format(accurate_predictions/total_predictions))"
   ]
  },
  {
   "cell_type": "code",
   "execution_count": null,
   "metadata": {},
   "outputs": [],
   "source": [
    "test(model, testdl)"
   ]
  },
  {
   "cell_type": "markdown",
   "metadata": {},
   "source": [
    "Perhaps another way to use the accuracy metric on this problem is to consider all labels individually? So the accuracy would not be predicted over whether the whole output vector was correct or not, but which elements inside each output vector were predicted accurately. However, that still leaves the problem of the threshold to use when figuring out whether a certain element in the output vector is 1 or 0. Perhaps we can experiment with threshold values using the ROC curve? I'm not sure if that applies here or not."
   ]
  },
  {
   "cell_type": "markdown",
   "metadata": {},
   "source": [
    "## Final Note\n",
    "\n",
    "I found this quite an interesting problem, and a good introduction into working with image data, instead of text data as we usually have. I would have liked to try a bunch of other things, since I'm sure there a lot of things we can do with neural networks and image data - however, I do not know much about them (yet!) as we have mostly dealt with text data in this course. "
   ]
  },
  {
   "cell_type": "code",
   "execution_count": null,
   "metadata": {},
   "outputs": [],
   "source": []
  }
 ],
 "metadata": {
  "kernelspec": {
   "display_name": "Python 3",
   "language": "python",
   "name": "python3"
  },
  "language_info": {
   "codemirror_mode": {
    "name": "ipython",
    "version": 3
   },
   "file_extension": ".py",
   "mimetype": "text/x-python",
   "name": "python",
   "nbconvert_exporter": "python",
   "pygments_lexer": "ipython3",
   "version": "3.7.4"
  }
 },
 "nbformat": 4,
 "nbformat_minor": 2
}
